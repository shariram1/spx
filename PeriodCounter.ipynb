{
 "cells": [
  {
   "cell_type": "code",
   "execution_count": 6,
   "id": "4d7ffb19-90b9-4d06-837d-d2c3ab2bc257",
   "metadata": {},
   "outputs": [],
   "source": [
    "import numpy as np\n",
    "import os\n",
    "import sys\n",
    "import pandas as pd"
   ]
  },
  {
   "cell_type": "code",
   "execution_count": 4,
   "id": "fa2bd85d-b980-4d57-b2de-dd7d68beb593",
   "metadata": {},
   "outputs": [
    {
     "name": "stdout",
     "output_type": "stream",
     "text": [
      "Requirement already satisfied: xlrd in /srv/conda/envs/notebook/lib/python3.7/site-packages (2.0.1)\n",
      "Requirement already satisfied: openpyxl in /srv/conda/envs/notebook/lib/python3.7/site-packages (3.0.7)\n",
      "Requirement already satisfied: et-xmlfile in /srv/conda/envs/notebook/lib/python3.7/site-packages (from openpyxl) (1.1.0)\n"
     ]
    }
   ],
   "source": [
    "!{sys.executable} -m pip install xlrd\n",
    "!{sys.executable} -m pip install openpyxl"
   ]
  },
  {
   "cell_type": "markdown",
   "id": "02749182-9c9b-42c0-a0b1-8580c81531ed",
   "metadata": {},
   "source": [
    "# Get the current working directory"
   ]
  },
  {
   "cell_type": "code",
   "execution_count": 7,
   "id": "91a43ded-22ed-47ac-be80-d001ac432f88",
   "metadata": {},
   "outputs": [
    {
     "data": {
      "text/plain": [
       "'/home/jovyan/demo'"
      ]
     },
     "execution_count": 7,
     "metadata": {},
     "output_type": "execute_result"
    }
   ],
   "source": [
    "os.getcwd()"
   ]
  },
  {
   "cell_type": "markdown",
   "id": "74e8baa3-ea5d-4b42-a1fc-29a8ac2125d1",
   "metadata": {},
   "source": [
    "# Read the excel file into a DF"
   ]
  },
  {
   "cell_type": "code",
   "execution_count": 8,
   "id": "de537e28-da29-412b-8710-0b8877fbaabb",
   "metadata": {},
   "outputs": [
    {
     "data": {
      "text/html": [
       "<div>\n",
       "<style scoped>\n",
       "    .dataframe tbody tr th:only-of-type {\n",
       "        vertical-align: middle;\n",
       "    }\n",
       "\n",
       "    .dataframe tbody tr th {\n",
       "        vertical-align: top;\n",
       "    }\n",
       "\n",
       "    .dataframe thead th {\n",
       "        text-align: right;\n",
       "    }\n",
       "</style>\n",
       "<table border=\"1\" class=\"dataframe\">\n",
       "  <thead>\n",
       "    <tr style=\"text-align: right;\">\n",
       "      <th></th>\n",
       "      <th>Date</th>\n",
       "      <th>Open</th>\n",
       "      <th>High</th>\n",
       "      <th>Low</th>\n",
       "      <th>Close</th>\n",
       "      <th>Volume</th>\n",
       "      <th>EMA_9</th>\n",
       "      <th>SMA_20</th>\n",
       "      <th>SMA_50</th>\n",
       "      <th>SMA_200</th>\n",
       "      <th>PivotHighs</th>\n",
       "      <th>PivotLows</th>\n",
       "      <th>L-HPrds</th>\n",
       "      <th>H-LPrds</th>\n",
       "      <th>ATR</th>\n",
       "      <th>HisVol</th>\n",
       "      <th>HistVol_ExpMove</th>\n",
       "    </tr>\n",
       "  </thead>\n",
       "  <tbody>\n",
       "    <tr>\n",
       "      <th>0</th>\n",
       "      <td>2018-07-23</td>\n",
       "      <td>2799.17</td>\n",
       "      <td>2808.61</td>\n",
       "      <td>2795.14</td>\n",
       "      <td>2806.98</td>\n",
       "      <td>0</td>\n",
       "      <td>2806.980000</td>\n",
       "      <td>NaN</td>\n",
       "      <td>NaN</td>\n",
       "      <td>NaN</td>\n",
       "      <td>NaN</td>\n",
       "      <td>NaN</td>\n",
       "      <td>NaN</td>\n",
       "      <td>NaN</td>\n",
       "      <td>NaN</td>\n",
       "      <td>NaN</td>\n",
       "      <td>NaN</td>\n",
       "    </tr>\n",
       "    <tr>\n",
       "      <th>1</th>\n",
       "      <td>2018-07-24</td>\n",
       "      <td>2820.68</td>\n",
       "      <td>2829.99</td>\n",
       "      <td>2811.12</td>\n",
       "      <td>2820.40</td>\n",
       "      <td>0</td>\n",
       "      <td>2809.664000</td>\n",
       "      <td>NaN</td>\n",
       "      <td>NaN</td>\n",
       "      <td>NaN</td>\n",
       "      <td>NaN</td>\n",
       "      <td>NaN</td>\n",
       "      <td>NaN</td>\n",
       "      <td>NaN</td>\n",
       "      <td>NaN</td>\n",
       "      <td>NaN</td>\n",
       "      <td>NaN</td>\n",
       "    </tr>\n",
       "    <tr>\n",
       "      <th>2</th>\n",
       "      <td>2018-07-25</td>\n",
       "      <td>2817.73</td>\n",
       "      <td>2848.03</td>\n",
       "      <td>2817.73</td>\n",
       "      <td>2846.07</td>\n",
       "      <td>0</td>\n",
       "      <td>2816.945200</td>\n",
       "      <td>NaN</td>\n",
       "      <td>NaN</td>\n",
       "      <td>NaN</td>\n",
       "      <td>2848.03</td>\n",
       "      <td>NaN</td>\n",
       "      <td>3.0</td>\n",
       "      <td>NaN</td>\n",
       "      <td>NaN</td>\n",
       "      <td>NaN</td>\n",
       "      <td>NaN</td>\n",
       "    </tr>\n",
       "    <tr>\n",
       "      <th>3</th>\n",
       "      <td>2018-07-26</td>\n",
       "      <td>2835.49</td>\n",
       "      <td>2845.57</td>\n",
       "      <td>2835.26</td>\n",
       "      <td>2837.44</td>\n",
       "      <td>0</td>\n",
       "      <td>2821.044160</td>\n",
       "      <td>NaN</td>\n",
       "      <td>NaN</td>\n",
       "      <td>NaN</td>\n",
       "      <td>NaN</td>\n",
       "      <td>NaN</td>\n",
       "      <td>NaN</td>\n",
       "      <td>NaN</td>\n",
       "      <td>NaN</td>\n",
       "      <td>NaN</td>\n",
       "      <td>NaN</td>\n",
       "    </tr>\n",
       "    <tr>\n",
       "      <th>4</th>\n",
       "      <td>2018-07-27</td>\n",
       "      <td>2842.35</td>\n",
       "      <td>2843.17</td>\n",
       "      <td>2808.34</td>\n",
       "      <td>2818.82</td>\n",
       "      <td>0</td>\n",
       "      <td>2820.599328</td>\n",
       "      <td>NaN</td>\n",
       "      <td>NaN</td>\n",
       "      <td>NaN</td>\n",
       "      <td>NaN</td>\n",
       "      <td>NaN</td>\n",
       "      <td>NaN</td>\n",
       "      <td>NaN</td>\n",
       "      <td>NaN</td>\n",
       "      <td>NaN</td>\n",
       "      <td>NaN</td>\n",
       "    </tr>\n",
       "  </tbody>\n",
       "</table>\n",
       "</div>"
      ],
      "text/plain": [
       "        Date     Open     High      Low    Close  Volume        EMA_9  SMA_20  \\\n",
       "0 2018-07-23  2799.17  2808.61  2795.14  2806.98       0  2806.980000     NaN   \n",
       "1 2018-07-24  2820.68  2829.99  2811.12  2820.40       0  2809.664000     NaN   \n",
       "2 2018-07-25  2817.73  2848.03  2817.73  2846.07       0  2816.945200     NaN   \n",
       "3 2018-07-26  2835.49  2845.57  2835.26  2837.44       0  2821.044160     NaN   \n",
       "4 2018-07-27  2842.35  2843.17  2808.34  2818.82       0  2820.599328     NaN   \n",
       "\n",
       "   SMA_50  SMA_200  PivotHighs  PivotLows  L-HPrds  H-LPrds  ATR  HisVol  \\\n",
       "0     NaN      NaN         NaN        NaN      NaN      NaN  NaN     NaN   \n",
       "1     NaN      NaN         NaN        NaN      NaN      NaN  NaN     NaN   \n",
       "2     NaN      NaN     2848.03        NaN      3.0      NaN  NaN     NaN   \n",
       "3     NaN      NaN         NaN        NaN      NaN      NaN  NaN     NaN   \n",
       "4     NaN      NaN         NaN        NaN      NaN      NaN  NaN     NaN   \n",
       "\n",
       "   HistVol_ExpMove  \n",
       "0              NaN  \n",
       "1              NaN  \n",
       "2              NaN  \n",
       "3              NaN  \n",
       "4              NaN  "
      ]
     },
     "execution_count": 8,
     "metadata": {},
     "output_type": "execute_result"
    }
   ],
   "source": [
    "file_name = \"/home/jovyan/demo/20210724-SPX.xlsx\"\n",
    "sheet =  \"20210724-SPX\"\n",
    "df = pd.read_excel(io=file_name, sheet_name=sheet)\n",
    "df.head(5)"
   ]
  },
  {
   "cell_type": "markdown",
   "id": "bbc287dd-152b-49e4-917e-216648edd573",
   "metadata": {},
   "source": [
    "# Count number of days from pivot low to pivot high"
   ]
  },
  {
   "cell_type": "code",
   "execution_count": 9,
   "id": "52293cb4-6ea2-408b-9a00-d6f4d7e422a7",
   "metadata": {},
   "outputs": [],
   "source": [
    "def periodCounter1(dframe,col1,col2):\n",
    "    # col1 is pivot highs col and col2 is pivotlows col\n",
    "    counterLH=1\n",
    "    nPeriodLH=[]\n",
    "    datelocLH=[]\n",
    "    \n",
    "    for i in range(len(dframe)-1):\n",
    "        if np.isnan(dframe[col2][i])==True:\n",
    "            counterLH+=1\n",
    "            if np.isnan(dframe[col1][i+1])==False:\n",
    "                nPeriodLH.append(counterLH)\n",
    "                datelocLH.append(dframe['Date'][i+1])\n",
    "                counterLH=1\n",
    "    LHprd=pd.DataFrame({'Date':datelocLH,'L-HPrds':nPeriodLH})\n",
    "    return LHprd"
   ]
  },
  {
   "cell_type": "code",
   "execution_count": 10,
   "id": "37ad2ed6-6b0a-4903-aa95-ece0339ec99c",
   "metadata": {},
   "outputs": [
    {
     "data": {
      "text/html": [
       "<div>\n",
       "<style scoped>\n",
       "    .dataframe tbody tr th:only-of-type {\n",
       "        vertical-align: middle;\n",
       "    }\n",
       "\n",
       "    .dataframe tbody tr th {\n",
       "        vertical-align: top;\n",
       "    }\n",
       "\n",
       "    .dataframe thead th {\n",
       "        text-align: right;\n",
       "    }\n",
       "</style>\n",
       "<table border=\"1\" class=\"dataframe\">\n",
       "  <thead>\n",
       "    <tr style=\"text-align: right;\">\n",
       "      <th></th>\n",
       "      <th>Date</th>\n",
       "      <th>L-HPrds</th>\n",
       "    </tr>\n",
       "  </thead>\n",
       "  <tbody>\n",
       "    <tr>\n",
       "      <th>0</th>\n",
       "      <td>2018-07-25</td>\n",
       "      <td>3</td>\n",
       "    </tr>\n",
       "    <tr>\n",
       "      <th>1</th>\n",
       "      <td>2018-08-07</td>\n",
       "      <td>9</td>\n",
       "    </tr>\n",
       "    <tr>\n",
       "      <th>2</th>\n",
       "      <td>2018-08-29</td>\n",
       "      <td>16</td>\n",
       "    </tr>\n",
       "    <tr>\n",
       "      <th>3</th>\n",
       "      <td>2018-09-21</td>\n",
       "      <td>16</td>\n",
       "    </tr>\n",
       "  </tbody>\n",
       "</table>\n",
       "</div>"
      ],
      "text/plain": [
       "        Date  L-HPrds\n",
       "0 2018-07-25        3\n",
       "1 2018-08-07        9\n",
       "2 2018-08-29       16\n",
       "3 2018-09-21       16"
      ]
     },
     "execution_count": 10,
     "metadata": {},
     "output_type": "execute_result"
    }
   ],
   "source": [
    "periodCounter1(df.head(50), col1='PivotHighs', col2='PivotLows')"
   ]
  },
  {
   "cell_type": "markdown",
   "id": "1c2947c4-49b8-437a-b5a4-5d0850905a2a",
   "metadata": {},
   "source": [
    "# Count number of days from pivot high to pivot low"
   ]
  },
  {
   "cell_type": "code",
   "execution_count": 11,
   "id": "3060247c-c86d-43fa-a9d1-e90e3da98a62",
   "metadata": {},
   "outputs": [],
   "source": [
    "def periodCounter2(dframe,col1,col2):\n",
    "    # col1 is pivot highs col and col2 is pivotlows col\n",
    "    counterHL=1\n",
    "    nPeriodHL=[]\n",
    "    datelocHL=[]\n",
    "    for i in range(len(dframe)-1):\n",
    "        if np.isnan(dframe[col1][i])==True:\n",
    "            counterHL+=1\n",
    "            if np.isnan(dframe[col2][i+1])==False:\n",
    "                nPeriodHL.append(counterHL)\n",
    "                datelocHL.append(dframe['Date'][i+1])\n",
    "                counterHL=1\n",
    "    \n",
    "    HLprd=pd.DataFrame({'Date':datelocHL,'H-LPrds':nPeriodHL})\n",
    "    return HLprd"
   ]
  },
  {
   "cell_type": "code",
   "execution_count": 12,
   "id": "db3fc65f-dd54-485c-8915-d4ebdb5b67e7",
   "metadata": {},
   "outputs": [
    {
     "data": {
      "text/html": [
       "<div>\n",
       "<style scoped>\n",
       "    .dataframe tbody tr th:only-of-type {\n",
       "        vertical-align: middle;\n",
       "    }\n",
       "\n",
       "    .dataframe tbody tr th {\n",
       "        vertical-align: top;\n",
       "    }\n",
       "\n",
       "    .dataframe thead th {\n",
       "        text-align: right;\n",
       "    }\n",
       "</style>\n",
       "<table border=\"1\" class=\"dataframe\">\n",
       "  <thead>\n",
       "    <tr style=\"text-align: right;\">\n",
       "      <th></th>\n",
       "      <th>Date</th>\n",
       "      <th>H-LPrds</th>\n",
       "    </tr>\n",
       "  </thead>\n",
       "  <tbody>\n",
       "    <tr>\n",
       "      <th>0</th>\n",
       "      <td>2018-08-02</td>\n",
       "      <td>8</td>\n",
       "    </tr>\n",
       "    <tr>\n",
       "      <th>1</th>\n",
       "      <td>2018-08-15</td>\n",
       "      <td>9</td>\n",
       "    </tr>\n",
       "    <tr>\n",
       "      <th>2</th>\n",
       "      <td>2018-09-07</td>\n",
       "      <td>16</td>\n",
       "    </tr>\n",
       "  </tbody>\n",
       "</table>\n",
       "</div>"
      ],
      "text/plain": [
       "        Date  H-LPrds\n",
       "0 2018-08-02        8\n",
       "1 2018-08-15        9\n",
       "2 2018-09-07       16"
      ]
     },
     "execution_count": 12,
     "metadata": {},
     "output_type": "execute_result"
    }
   ],
   "source": [
    "periodCounter2(df.head(50), col1='PivotHighs', col2='PivotLows')"
   ]
  },
  {
   "cell_type": "markdown",
   "id": "53e98a2e-6d95-47ac-bd8b-e28469eae4fc",
   "metadata": {},
   "source": [
    "# New Function"
   ]
  },
  {
   "cell_type": "code",
   "execution_count": 13,
   "id": "9d95f761-d1c4-4818-ab6d-504054b88978",
   "metadata": {},
   "outputs": [],
   "source": [
    "def periodCounter3(dframe, pivot_high_col, pivot_low_col):\n",
    "    for index, row in df.head(10).iterrows():\n",
    "        if np.isnan(row[pivot_high_col]) == False:\n",
    "            print (row[pivot_high_col], row[pivot_low_col])"
   ]
  },
  {
   "cell_type": "code",
   "execution_count": 14,
   "id": "fdded61f-9a77-4bca-88ff-674fa52c19b2",
   "metadata": {},
   "outputs": [
    {
     "name": "stdout",
     "output_type": "stream",
     "text": [
      "2848.03 nan\n"
     ]
    }
   ],
   "source": [
    "periodCounter3(df,pivot_high_col='PivotHighs',pivot_low_col='PivotLows')"
   ]
  },
  {
   "cell_type": "code",
   "execution_count": null,
   "id": "fbf39b73-beb2-43c8-9131-463a76f72ed1",
   "metadata": {},
   "outputs": [],
   "source": []
  }
 ],
 "metadata": {
  "kernelspec": {
   "display_name": "Python 3",
   "language": "python",
   "name": "python3"
  },
  "language_info": {
   "codemirror_mode": {
    "name": "ipython",
    "version": 3
   },
   "file_extension": ".py",
   "mimetype": "text/x-python",
   "name": "python",
   "nbconvert_exporter": "python",
   "pygments_lexer": "ipython3",
   "version": "3.7.8"
  }
 },
 "nbformat": 4,
 "nbformat_minor": 5
}
